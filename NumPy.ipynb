{
  "nbformat": 4,
  "nbformat_minor": 0,
  "metadata": {
    "colab": {
      "provenance": [],
      "collapsed_sections": [],
      "authorship_tag": "ABX9TyOquvpQYpmpVlithGY8CLpb"
    },
    "kernelspec": {
      "name": "python3",
      "display_name": "Python 3"
    },
    "language_info": {
      "name": "python"
    }
  },
  "cells": [
    {
      "cell_type": "markdown",
      "source": [
        "**arange:** Nota: la arange(1, 10)función devuelve una matriz con números enteros desde 1 (incluido) hasta 10 (no incluido)."
      ],
      "metadata": {
        "id": "2o1Edd-L_tw1"
      }
    },
    {
      "cell_type": "code",
      "source": [
        "import numpy as np\n"
      ],
      "metadata": {
        "id": "NfMf07M4_snW"
      },
      "execution_count": 1,
      "outputs": []
    },
    {
      "cell_type": "code",
      "source": [
        "x = np.arange(1,10)\n",
        "print(x)"
      ],
      "metadata": {
        "colab": {
          "base_uri": "https://localhost:8080/"
        },
        "id": "o5rKbPdDA-ko",
        "outputId": "9b994903-5bdc-4507-9bc0-66fc5d5c93f7"
      },
      "execution_count": 2,
      "outputs": [
        {
          "output_type": "stream",
          "name": "stdout",
          "text": [
            "[1 2 3 4 5 6 7 8 9]\n"
          ]
        }
      ]
    },
    {
      "cell_type": "markdown",
      "source": [
        "**greater_equal:**  Devuelve el valor de verdad de (x1 >= x2) por elementos.\n"
      ],
      "metadata": {
        "id": "o5_e-C-DBFzb"
      }
    },
    {
      "cell_type": "code",
      "source": [
        "x = np.greater_equal(10,12)\n",
        "print(x)"
      ],
      "metadata": {
        "colab": {
          "base_uri": "https://localhost:8080/"
        },
        "id": "cQgoKvB6BEYL",
        "outputId": "7342ad9d-ad2a-4ee7-bf8e-3d90cce88e35"
      },
      "execution_count": 4,
      "outputs": [
        {
          "output_type": "stream",
          "name": "stdout",
          "text": [
            "False\n"
          ]
        }
      ]
    },
    {
      "cell_type": "markdown",
      "source": [
        "**less_equal:** Devuelve el valor de verdad de (x1 <= x2) por elementos."
      ],
      "metadata": {
        "id": "qDfbXPDIBnBI"
      }
    },
    {
      "cell_type": "code",
      "source": [
        "x = np.less_equal(13,12)\n",
        "print(x)"
      ],
      "metadata": {
        "colab": {
          "base_uri": "https://localhost:8080/"
        },
        "id": "PgWAbT_CB-yW",
        "outputId": "ce30686d-1270-4c2f-9aa4-a14fe112cadb"
      },
      "execution_count": 6,
      "outputs": [
        {
          "output_type": "stream",
          "name": "stdout",
          "text": [
            "False\n"
          ]
        }
      ]
    },
    {
      "cell_type": "markdown",
      "source": [
        "**extract:**  Devuelve los elementos de un arreglo que cumplen alguna condición. ( condición , arreglo )\n",
        "\n",
        "Esto es equivalente a . Si condition es booleano es equivalente a .np.compress(ravel(condition), ravel(arr))np.extractarr[condition]\n",
        "\n",
        "Tenga en cuenta que placehace exactamente lo contrario de extract."
      ],
      "metadata": {
        "id": "RY2ip7SxCMJm"
      }
    },
    {
      "cell_type": "code",
      "source": [
        "arr = np.arange(12).reshape((3, 4))\n",
        "print(arr)\n",
        "condition = np.mod(arr, 3)==0\n",
        "print(condition)\n",
        "\n",
        "y = np.extract(condition,arr)\n",
        "\n",
        "print(y)"
      ],
      "metadata": {
        "colab": {
          "base_uri": "https://localhost:8080/"
        },
        "id": "hTe-7NtLCbJq",
        "outputId": "f7cd33c2-7ec9-4806-ce95-8897506949b9"
      },
      "execution_count": 10,
      "outputs": [
        {
          "output_type": "stream",
          "name": "stdout",
          "text": [
            "[[ 0  1  2  3]\n",
            " [ 4  5  6  7]\n",
            " [ 8  9 10 11]]\n",
            "[[ True False False  True]\n",
            " [False False  True False]\n",
            " [False  True False False]]\n",
            "[0 3 6 9]\n"
          ]
        }
      ]
    },
    {
      "cell_type": "markdown",
      "source": [
        "**flipud:** Invierta el orden de los elementos a lo largo del eje 0 (arriba/abajo).\n",
        "\n",
        "Para una matriz 2-D, esto voltea las entradas en cada columna en la dirección hacia arriba/abajo. Las filas se conservan, pero aparecen en un orden diferente al anterior."
      ],
      "metadata": {
        "id": "qWIuPL_tDWo9"
      }
    },
    {
      "cell_type": "code",
      "source": [
        "arr = [1,2,3,4,5,6]\n",
        "\n",
        "x = np.flipud(arr)\n",
        "\n",
        "print(x)"
      ],
      "metadata": {
        "colab": {
          "base_uri": "https://localhost:8080/"
        },
        "id": "cfP3aH-BDVFB",
        "outputId": "1fadf2b7-3bee-4e89-c4ee-f73deac28481"
      },
      "execution_count": 12,
      "outputs": [
        {
          "output_type": "stream",
          "name": "stdout",
          "text": [
            "[6 5 4 3 2 1]\n"
          ]
        }
      ]
    },
    {
      "cell_type": "markdown",
      "source": [
        "**ones:** Devuelve una nueva matriz de forma y tipo dados, llena de unos.\n",
        "numpy.ones(shape, dtype=None, order='C', *, like=None) "
      ],
      "metadata": {
        "id": "J9TZBpa7EDxr"
      }
    },
    {
      "cell_type": "code",
      "source": [
        "x = np.ones(5)\n",
        "\n",
        "print(x)"
      ],
      "metadata": {
        "colab": {
          "base_uri": "https://localhost:8080/"
        },
        "id": "vrbp2o7PEjUF",
        "outputId": "3d02637f-9837-433b-a80c-8e27f67047f4"
      },
      "execution_count": 13,
      "outputs": [
        {
          "output_type": "stream",
          "name": "stdout",
          "text": [
            "[1. 1. 1. 1. 1.]\n"
          ]
        }
      ]
    },
    {
      "cell_type": "markdown",
      "source": [
        "**real:** Devuelve la parte real del argumento complejo."
      ],
      "metadata": {
        "id": "y8LiNDeeExA2"
      }
    },
    {
      "cell_type": "code",
      "source": [
        "d = a = np.array([1+2j, 3+4j, 5+6j])\n",
        "\n",
        "x = np.real(d)\n",
        "\n",
        "print(x)"
      ],
      "metadata": {
        "colab": {
          "base_uri": "https://localhost:8080/"
        },
        "id": "rOmauoZTFAZR",
        "outputId": "e2b9dc20-e278-44f8-abd2-0ed5e30db955"
      },
      "execution_count": 14,
      "outputs": [
        {
          "output_type": "stream",
          "name": "stdout",
          "text": [
            "[1. 3. 5.]\n"
          ]
        }
      ]
    },
    {
      "cell_type": "markdown",
      "source": [
        "**imag:** Devuelve la parte imaginaria del argumento complejo."
      ],
      "metadata": {
        "id": "DltXjbUwFJDT"
      }
    },
    {
      "cell_type": "code",
      "source": [
        "d = a = np.array([1+2j, 3+4j, 5+6j])\n",
        "\n",
        "x = np.imag(d)\n",
        "\n",
        "print(x)"
      ],
      "metadata": {
        "colab": {
          "base_uri": "https://localhost:8080/"
        },
        "id": "ZVO0aCnSFQbF",
        "outputId": "613a8b14-b53b-4bec-9c69-29dc53418945"
      },
      "execution_count": 15,
      "outputs": [
        {
          "output_type": "stream",
          "name": "stdout",
          "text": [
            "[2. 4. 6.]\n"
          ]
        }
      ]
    },
    {
      "cell_type": "markdown",
      "source": [
        "**np.max** es solo un alias para **np.amax.** Esta función solo funciona en una sola matriz de entrada y encuentra el valor del elemento máximo en toda esa matriz (devolviendo un escalar). Alternativamente, toma un axisargumento y encontrará el valor máximo a lo largo de un eje de la matriz de entrada (devolviendo una nueva matriz)."
      ],
      "metadata": {
        "id": "gcOgPg-NFfq3"
      }
    },
    {
      "cell_type": "code",
      "source": [
        "a = np.array([[0, 1, 6],\n",
        "                  [2, 4, 1]])\n",
        "x = np.max(a)\n",
        "\n",
        "print(x)"
      ],
      "metadata": {
        "colab": {
          "base_uri": "https://localhost:8080/"
        },
        "id": "mGenADOvFmok",
        "outputId": "e013f01f-77a3-494e-90df-5997b04c3970"
      },
      "execution_count": 21,
      "outputs": [
        {
          "output_type": "stream",
          "name": "stdout",
          "text": [
            "6\n"
          ]
        }
      ]
    },
    {
      "cell_type": "markdown",
      "source": [
        "**amin**"
      ],
      "metadata": {
        "id": "3ucwbJWSGF-m"
      }
    },
    {
      "cell_type": "code",
      "source": [
        "a = np.array([[1, 1, 6],\n",
        "                  [2, 4, 1]])\n",
        "x = np.min(a)\n",
        "\n",
        "print(x)"
      ],
      "metadata": {
        "colab": {
          "base_uri": "https://localhost:8080/"
        },
        "id": "vGRE7F4oGI0k",
        "outputId": "5a99165e-fe36-4f8f-aa7c-f8ba32380568"
      },
      "execution_count": 24,
      "outputs": [
        {
          "output_type": "stream",
          "name": "stdout",
          "text": [
            "1\n"
          ]
        }
      ]
    }
  ]
}